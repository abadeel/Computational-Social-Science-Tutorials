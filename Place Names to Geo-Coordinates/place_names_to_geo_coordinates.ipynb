{
 "cells": [
  {
   "cell_type": "markdown",
   "id": "609afde1-8998-47f5-b00e-f0d8f22ab8af",
   "metadata": {},
   "source": [
    "# Converting Descriptive Place Names into Geo-coordinates (Longitudes and Latitudes)!"
   ]
  },
  {
   "cell_type": "markdown",
   "id": "e8c8e94d-1695-4d73-98d1-8ccb0194c4de",
   "metadata": {},
   "source": [
    "Many social science dataset contain data on events of interest that are marked as place names and students find it difficult to convert those names into geo-coordinates (longitudes and latitudes). \n",
    "\n",
    "This tutorial uses Python's **Geopy** library for geocoding. It has functions that convert addresses or location names into geographic coordinates (latitude and longitude). Geopy provides a simple and consistent interface to interact with multiple geocoding services, such as Google Maps, OpenStreetMap, Bing Maps, and others.\n",
    "\n",
    "* **Nominatim** is one of those geocoding service that converts addresses and location names into geographic coordinates (latitude and longitude) using OpenStreetMap. We will import that in the following cell.\n",
    "\n",
    "* **GeocoderTimedOut** handles exceptions is raised when geocoding request times out. We will import that in the following cell too."
   ]
  },
  {
   "cell_type": "markdown",
   "id": "d969fd35-2696-4ea3-9bd5-abbff73b0cdf",
   "metadata": {},
   "source": [
    "We will take **raw data** from *Anti-Defamation League (ADL)'s H.E.A.T. (Hate, Extremism, Antisemitism, Terrorism) database*, which contains various incidents of hate, extremism, antisemitism and terrorism, and geo-code the location of the events."
   ]
  },
  {
   "cell_type": "code",
   "execution_count": 1,
   "id": "2aed5fc0-3bd3-4d6d-b862-b56ab7eb0fac",
   "metadata": {},
   "outputs": [],
   "source": [
    "#importing libraries\n",
    "import pandas as pd\n",
    "import folium\n",
    "from folium.plugins import HeatMap\n",
    "from geopy.geocoders import Nominatim\n",
    "from geopy.exc import GeocoderTimedOut\n",
    "from tenacity import retry, stop_after_attempt, wait_fixed, retry_if_exception_type\n",
    "from tqdm import tqdm"
   ]
  },
  {
   "cell_type": "markdown",
   "id": "1ed7c135-ed52-4402-9855-0fb301f20ed9",
   "metadata": {},
   "source": [
    " "
   ]
  },
  {
   "cell_type": "markdown",
   "id": "904f7e19-ccb5-4fa3-993a-faa580470e2d",
   "metadata": {},
   "source": [
    "Importing \"shootout\" events from the H.E.A.T database for demonstration purpose."
   ]
  },
  {
   "cell_type": "code",
   "execution_count": 2,
   "id": "4998cd0d-86ab-4124-8985-f7cad309118d",
   "metadata": {
    "tags": []
   },
   "outputs": [],
   "source": [
    "data = pd.read_excel(\"shootout.xlsx\")"
   ]
  },
  {
   "cell_type": "markdown",
   "id": "42e434e1-21b9-4368-96d1-9ab77c282f59",
   "metadata": {},
   "source": [
    " "
   ]
  },
  {
   "cell_type": "markdown",
   "id": "ff6814e4-54ea-40a3-af86-91f101732b7c",
   "metadata": {},
   "source": [
    "Once imported, the data looks like this. It has descriptive city and state names, and we would like to convert them into geo-coordinates for further mapping. "
   ]
  },
  {
   "cell_type": "code",
   "execution_count": 3,
   "id": "0e6f5dab-8a9d-4983-b08d-ada8663509c9",
   "metadata": {},
   "outputs": [
    {
     "data": {
      "text/html": [
       "<div>\n",
       "<style scoped>\n",
       "    .dataframe tbody tr th:only-of-type {\n",
       "        vertical-align: middle;\n",
       "    }\n",
       "\n",
       "    .dataframe tbody tr th {\n",
       "        vertical-align: top;\n",
       "    }\n",
       "\n",
       "    .dataframe thead th {\n",
       "        text-align: right;\n",
       "    }\n",
       "</style>\n",
       "<table border=\"1\" class=\"dataframe\">\n",
       "  <thead>\n",
       "    <tr style=\"text-align: right;\">\n",
       "      <th></th>\n",
       "      <th>Unnamed: 0</th>\n",
       "      <th>id</th>\n",
       "      <th>date</th>\n",
       "      <th>city</th>\n",
       "      <th>state</th>\n",
       "      <th>type</th>\n",
       "      <th>ideology</th>\n",
       "      <th>subideology</th>\n",
       "      <th>group</th>\n",
       "      <th>description</th>\n",
       "      <th>image</th>\n",
       "      <th>latitude</th>\n",
       "      <th>longitude</th>\n",
       "    </tr>\n",
       "  </thead>\n",
       "  <tbody>\n",
       "    <tr>\n",
       "      <th>0</th>\n",
       "      <td>2426</td>\n",
       "      <td>33502</td>\n",
       "      <td>2022-09-11</td>\n",
       "      <td>Walled Lake</td>\n",
       "      <td>MI</td>\n",
       "      <td>Extremist Murder;Extremist/Police Shootout</td>\n",
       "      <td>Right Wing (Other)</td>\n",
       "      <td>NaN</td>\n",
       "      <td>NaN</td>\n",
       "      <td>Igor Lanis fatally shot his wife and wounded o...</td>\n",
       "      <td>NaN</td>\n",
       "      <td>42.537811</td>\n",
       "      <td>-83.481048</td>\n",
       "    </tr>\n",
       "    <tr>\n",
       "      <th>1</th>\n",
       "      <td>6881</td>\n",
       "      <td>25776</td>\n",
       "      <td>2022-03-31</td>\n",
       "      <td>Dudleyville</td>\n",
       "      <td>AZ</td>\n",
       "      <td>Extremist/Police Shootout</td>\n",
       "      <td>Right Wing (White Supremacist)</td>\n",
       "      <td>NaN</td>\n",
       "      <td>NaN</td>\n",
       "      <td>According to the Pinal County Sheriff's Office...</td>\n",
       "      <td>NaN</td>\n",
       "      <td>32.908704</td>\n",
       "      <td>-110.722061</td>\n",
       "    </tr>\n",
       "    <tr>\n",
       "      <th>2</th>\n",
       "      <td>9750</td>\n",
       "      <td>20441</td>\n",
       "      <td>2021-12-27</td>\n",
       "      <td>Denver</td>\n",
       "      <td>CO</td>\n",
       "      <td>Extremist Murder;Extremist/Police Shootout</td>\n",
       "      <td>Right Wing (Other)</td>\n",
       "      <td>NaN</td>\n",
       "      <td>NaN</td>\n",
       "      <td>Lyndon McLeod went on a multi-location shootin...</td>\n",
       "      <td>NaN</td>\n",
       "      <td>39.739236</td>\n",
       "      <td>-104.984862</td>\n",
       "    </tr>\n",
       "    <tr>\n",
       "      <th>3</th>\n",
       "      <td>10915</td>\n",
       "      <td>20464</td>\n",
       "      <td>2021-11-05</td>\n",
       "      <td>Hoschton</td>\n",
       "      <td>GA</td>\n",
       "      <td>Extremist Murder;Extremist/Police Shootout</td>\n",
       "      <td>Right Wing (Anti-Government)</td>\n",
       "      <td>NaN</td>\n",
       "      <td>NaN</td>\n",
       "      <td>Jessica Worsham, an anti-government sovereign ...</td>\n",
       "      <td>NaN</td>\n",
       "      <td>34.096496</td>\n",
       "      <td>-83.761284</td>\n",
       "    </tr>\n",
       "    <tr>\n",
       "      <th>4</th>\n",
       "      <td>11647</td>\n",
       "      <td>20390</td>\n",
       "      <td>2021-10-29</td>\n",
       "      <td>Tecumseh</td>\n",
       "      <td>OK</td>\n",
       "      <td>Extremist Murder;Extremist/Police Shootout</td>\n",
       "      <td>Right Wing (Anti-Government)</td>\n",
       "      <td>NaN</td>\n",
       "      <td>NaN</td>\n",
       "      <td>Braedon Chesser, an anti-government extremist ...</td>\n",
       "      <td>NaN</td>\n",
       "      <td>35.257850</td>\n",
       "      <td>-96.936689</td>\n",
       "    </tr>\n",
       "    <tr>\n",
       "      <th>...</th>\n",
       "      <td>...</td>\n",
       "      <td>...</td>\n",
       "      <td>...</td>\n",
       "      <td>...</td>\n",
       "      <td>...</td>\n",
       "      <td>...</td>\n",
       "      <td>...</td>\n",
       "      <td>...</td>\n",
       "      <td>...</td>\n",
       "      <td>...</td>\n",
       "      <td>...</td>\n",
       "      <td>...</td>\n",
       "      <td>...</td>\n",
       "    </tr>\n",
       "    <tr>\n",
       "      <th>125</th>\n",
       "      <td>35948</td>\n",
       "      <td>710</td>\n",
       "      <td>2009-10-28</td>\n",
       "      <td>Dearborn</td>\n",
       "      <td>MI</td>\n",
       "      <td>Extremist/Police Shootout</td>\n",
       "      <td>Islamist</td>\n",
       "      <td>NaN</td>\n",
       "      <td>Ummah</td>\n",
       "      <td>Law enforcement agents fatally shot Luqman Ame...</td>\n",
       "      <td>NaN</td>\n",
       "      <td>42.322260</td>\n",
       "      <td>-83.176315</td>\n",
       "    </tr>\n",
       "    <tr>\n",
       "      <th>126</th>\n",
       "      <td>35969</td>\n",
       "      <td>1948</td>\n",
       "      <td>2009-04-04</td>\n",
       "      <td>Pittsburgh</td>\n",
       "      <td>PA</td>\n",
       "      <td>Extremist Murder;Extremist/Police Shootout</td>\n",
       "      <td>Right Wing (White Supremacist)</td>\n",
       "      <td>NaN</td>\n",
       "      <td>NaN</td>\n",
       "      <td>Richard Andrew Poplawski shot and killed three...</td>\n",
       "      <td>NaN</td>\n",
       "      <td>40.441694</td>\n",
       "      <td>-79.990086</td>\n",
       "    </tr>\n",
       "    <tr>\n",
       "      <th>127</th>\n",
       "      <td>35976</td>\n",
       "      <td>335</td>\n",
       "      <td>2009-01-21</td>\n",
       "      <td>Brockton</td>\n",
       "      <td>MA</td>\n",
       "      <td>Extremist Murder;Extremist/Police Shootout;Ter...</td>\n",
       "      <td>Right Wing (White Supremacist)</td>\n",
       "      <td>NaN</td>\n",
       "      <td>NaN</td>\n",
       "      <td>Keith Luke, 22, went on a racially motivated s...</td>\n",
       "      <td>NaN</td>\n",
       "      <td>42.083433</td>\n",
       "      <td>-71.018379</td>\n",
       "    </tr>\n",
       "    <tr>\n",
       "      <th>128</th>\n",
       "      <td>36006</td>\n",
       "      <td>192</td>\n",
       "      <td>2007-08-10</td>\n",
       "      <td>Bastrop</td>\n",
       "      <td>LA</td>\n",
       "      <td>Extremist Murder;Extremist/Police Shootout</td>\n",
       "      <td>Right Wing (White Supremacist)</td>\n",
       "      <td>NaN</td>\n",
       "      <td>Aryan Circle</td>\n",
       "      <td>Aryan Circle member Dennis Clem shot and kille...</td>\n",
       "      <td>NaN</td>\n",
       "      <td>32.776145</td>\n",
       "      <td>-91.908297</td>\n",
       "    </tr>\n",
       "    <tr>\n",
       "      <th>129</th>\n",
       "      <td>36018</td>\n",
       "      <td>962</td>\n",
       "      <td>2006-02-02</td>\n",
       "      <td>Gassville</td>\n",
       "      <td>AR</td>\n",
       "      <td>Extremist Murder;Extremist/Police Shootout</td>\n",
       "      <td>Right Wing (White Supremacist)</td>\n",
       "      <td>NaN</td>\n",
       "      <td>NaN</td>\n",
       "      <td>White supremacist Jacob Robida killed himself ...</td>\n",
       "      <td>NaN</td>\n",
       "      <td>36.283124</td>\n",
       "      <td>-92.494051</td>\n",
       "    </tr>\n",
       "  </tbody>\n",
       "</table>\n",
       "<p>130 rows × 13 columns</p>\n",
       "</div>"
      ],
      "text/plain": [
       "     Unnamed: 0     id       date         city state  \\\n",
       "0          2426  33502 2022-09-11  Walled Lake    MI   \n",
       "1          6881  25776 2022-03-31  Dudleyville    AZ   \n",
       "2          9750  20441 2021-12-27       Denver    CO   \n",
       "3         10915  20464 2021-11-05     Hoschton    GA   \n",
       "4         11647  20390 2021-10-29     Tecumseh    OK   \n",
       "..          ...    ...        ...          ...   ...   \n",
       "125       35948    710 2009-10-28     Dearborn    MI   \n",
       "126       35969   1948 2009-04-04   Pittsburgh    PA   \n",
       "127       35976    335 2009-01-21     Brockton    MA   \n",
       "128       36006    192 2007-08-10      Bastrop    LA   \n",
       "129       36018    962 2006-02-02    Gassville    AR   \n",
       "\n",
       "                                                  type  \\\n",
       "0           Extremist Murder;Extremist/Police Shootout   \n",
       "1                            Extremist/Police Shootout   \n",
       "2           Extremist Murder;Extremist/Police Shootout   \n",
       "3           Extremist Murder;Extremist/Police Shootout   \n",
       "4           Extremist Murder;Extremist/Police Shootout   \n",
       "..                                                 ...   \n",
       "125                          Extremist/Police Shootout   \n",
       "126         Extremist Murder;Extremist/Police Shootout   \n",
       "127  Extremist Murder;Extremist/Police Shootout;Ter...   \n",
       "128         Extremist Murder;Extremist/Police Shootout   \n",
       "129         Extremist Murder;Extremist/Police Shootout   \n",
       "\n",
       "                           ideology  subideology         group  \\\n",
       "0                Right Wing (Other)          NaN           NaN   \n",
       "1    Right Wing (White Supremacist)          NaN           NaN   \n",
       "2                Right Wing (Other)          NaN           NaN   \n",
       "3      Right Wing (Anti-Government)          NaN           NaN   \n",
       "4      Right Wing (Anti-Government)          NaN           NaN   \n",
       "..                              ...          ...           ...   \n",
       "125                        Islamist          NaN         Ummah   \n",
       "126  Right Wing (White Supremacist)          NaN           NaN   \n",
       "127  Right Wing (White Supremacist)          NaN           NaN   \n",
       "128  Right Wing (White Supremacist)          NaN  Aryan Circle   \n",
       "129  Right Wing (White Supremacist)          NaN           NaN   \n",
       "\n",
       "                                           description  image   latitude  \\\n",
       "0    Igor Lanis fatally shot his wife and wounded o...    NaN  42.537811   \n",
       "1    According to the Pinal County Sheriff's Office...    NaN  32.908704   \n",
       "2    Lyndon McLeod went on a multi-location shootin...    NaN  39.739236   \n",
       "3    Jessica Worsham, an anti-government sovereign ...    NaN  34.096496   \n",
       "4    Braedon Chesser, an anti-government extremist ...    NaN  35.257850   \n",
       "..                                                 ...    ...        ...   \n",
       "125  Law enforcement agents fatally shot Luqman Ame...    NaN  42.322260   \n",
       "126  Richard Andrew Poplawski shot and killed three...    NaN  40.441694   \n",
       "127  Keith Luke, 22, went on a racially motivated s...    NaN  42.083433   \n",
       "128  Aryan Circle member Dennis Clem shot and kille...    NaN  32.776145   \n",
       "129  White supremacist Jacob Robida killed himself ...    NaN  36.283124   \n",
       "\n",
       "      longitude  \n",
       "0    -83.481048  \n",
       "1   -110.722061  \n",
       "2   -104.984862  \n",
       "3    -83.761284  \n",
       "4    -96.936689  \n",
       "..          ...  \n",
       "125  -83.176315  \n",
       "126  -79.990086  \n",
       "127  -71.018379  \n",
       "128  -91.908297  \n",
       "129  -92.494051  \n",
       "\n",
       "[130 rows x 13 columns]"
      ]
     },
     "execution_count": 3,
     "metadata": {},
     "output_type": "execute_result"
    }
   ],
   "source": [
    "data"
   ]
  },
  {
   "cell_type": "markdown",
   "id": "d70366bc-2404-4172-96f9-de5189c72d34",
   "metadata": {},
   "source": [
    " "
   ]
  },
  {
   "cell_type": "markdown",
   "id": "796175b4-bc43-4b19-b36a-ee9c4a8ad63c",
   "metadata": {
    "jp-MarkdownHeadingCollapsed": true,
    "tags": []
   },
   "source": [
    "**Now we will convert the locations to coordinates (longitude and latitude) using the city and state information.**\n",
    "\n",
    "For that we will first add empty columns for latitude and longitude and write a function to fill them in interatively using the Nominatim geocoding service."
   ]
  },
  {
   "cell_type": "code",
   "execution_count": 4,
   "id": "9e49ec02-3a1a-44d6-9494-0faa0e9578d7",
   "metadata": {},
   "outputs": [],
   "source": [
    "data['latitude'] = None\n",
    "data['longitude'] = None"
   ]
  },
  {
   "cell_type": "markdown",
   "id": "ebc46198-44e8-4394-9bfc-e99d4435c646",
   "metadata": {},
   "source": [
    " "
   ]
  },
  {
   "cell_type": "markdown",
   "id": "998f3d2c-9377-450a-b60f-31f44d755557",
   "metadata": {},
   "source": [
    "The following code creates a Nominatim geolocator object with a custom user agent (\"heat_map_geocoder\") and a timeout of 20 seconds. \n",
    "\n",
    "*The **user_agent** parameter helps identify our application to the geocoding service (name is arbitrary), while the **timeout** parameter specifies the maximum time (in seconds) the geolocator should wait for a response from the service."
   ]
  },
  {
   "cell_type": "code",
   "execution_count": 5,
   "id": "c655ee1c-5019-4e88-9491-90ca27b82e2d",
   "metadata": {},
   "outputs": [],
   "source": [
    "geolocator = Nominatim(user_agent=\"heat_map_geocoder\", timeout=20)"
   ]
  },
  {
   "cell_type": "markdown",
   "id": "7919e1cd-faec-4cb3-8343-dc94977a1d80",
   "metadata": {},
   "source": [
    " "
   ]
  },
  {
   "cell_type": "markdown",
   "id": "531ebb28-8a41-4098-86de-327cf9b49ade",
   "metadata": {},
   "source": [
    "The **retry** decorator from the **tenacity** library aplies to the **geocode_with_retry** function defined in the next line. \n",
    "\n",
    "It adds retry behavior to the function, with the following configuration:\n",
    "\n",
    "* **stop=stop_after_attempt(10)**: Retry the function up to a maximum of 10 attempts. The servers might be busy in one attempt so it tells the system to do it again. \n",
    "\n",
    "* **wait=wait_fixed(2)**: Wait for 2 seconds between each retry attempt. Some servers limit that time between requests (OSM does too). It happens mostly with APIs.\n",
    "\n",
    "* **retry=retry_if_exception_type(GeocoderTimedOut)**: Retry the function only if it raises an exception of type GeocoderTimedOut, which is an exception raised by geopy when the geocoding request times out.\n",
    "\n",
    "THe function itself does the following things:\n",
    "\n",
    "* **def geocode_with_retry(location_str)** defines the **geocode_with_retry function**, which takes a single argument **location_str** representing the location string to be geocoded. We willd efined this location string in the next line.\n",
    "\n",
    "* **return geolocator.geocode(location_str)**: functions processes the location string, puts it through Nominatim's geolocator and returns the geographical coordinates (latitude and longitude) of the input location."
   ]
  },
  {
   "cell_type": "code",
   "execution_count": 6,
   "id": "bc562585-43de-43e4-bd2a-61a185808cb7",
   "metadata": {},
   "outputs": [],
   "source": [
    "@retry(stop=stop_after_attempt(10), wait=wait_fixed(2), retry=retry_if_exception_type(GeocoderTimedOut))\n",
    "\n",
    "def geocode_with_retry(location_str):\n",
    "    return geolocator.geocode(location_str)\n"
   ]
  },
  {
   "cell_type": "markdown",
   "id": "28fc0f49-4362-4151-abda-485cf5bc641e",
   "metadata": {},
   "source": [
    " "
   ]
  },
  {
   "cell_type": "markdown",
   "id": "cd25d478-8e27-4b22-ad56-cd941e7d9a1a",
   "metadata": {},
   "source": [
    "The following code contains a **for loop** that processes each row, geocodes its 'city' and 'state' columns using the geocode_with_retry function, and updates the DataFrame with the resulting latitude and longitude.\n",
    "\n",
    "The **tdqm** library invoked here calculates time required to process each individual row to show a progress bar until every row is processed.\n",
    "\n",
    "**Note:** Sometimes this code chunk would fail. It is because the Nominatim geolocation service we use is provided by OSM maps. The code fails because the servers are too busy to process our requests or our internet connection is bad."
   ]
  },
  {
   "cell_type": "code",
   "execution_count": 7,
   "id": "c4ba3d55-94ae-40f8-8f31-d64e504d7daf",
   "metadata": {},
   "outputs": [
    {
     "name": "stderr",
     "output_type": "stream",
     "text": [
      "100%|██████████| 130/130 [01:07<00:00,  1.93it/s]\n"
     ]
    }
   ],
   "source": [
    "for index, row in tqdm(data.iterrows(), total=data.shape[0]):\n",
    "    location = geocode_with_retry(f\"{row['city']}, {row['state']}\")\n",
    "    if location:\n",
    "        data.at[index, 'latitude'] = location.latitude\n",
    "        data.at[index, 'longitude'] = location.longitude\n"
   ]
  },
  {
   "cell_type": "markdown",
   "id": "535c2a76-3d5e-4355-b8b2-26bbcde05a70",
   "metadata": {},
   "source": [
    " "
   ]
  },
  {
   "cell_type": "markdown",
   "id": "4d8f7e15-20d8-48b2-a629-61c89abecb08",
   "metadata": {},
   "source": [
    "Sometimes geolocation goes smoothly and sometimes not. It is because of spelling mistakes/difference, and the geolocator cannot locate the coordinates for the given location's name. It would then leave the observation empty/missing. \n",
    "\n",
    "The following code helps us locate those missing values before plotting."
   ]
  },
  {
   "cell_type": "code",
   "execution_count": 8,
   "id": "6f287209-4788-45cc-a866-ee3938d030d9",
   "metadata": {},
   "outputs": [
    {
     "name": "stdout",
     "output_type": "stream",
     "text": [
      "Missing values in each column:\n",
      "latitude     0\n",
      "longitude    0\n",
      "type         0\n",
      "dtype: int64\n"
     ]
    }
   ],
   "source": [
    "missing_values = data[['latitude', 'longitude', 'type']].isna().sum()\n",
    "print(\"Missing values in each column:\")\n",
    "print(missing_values)\n"
   ]
  },
  {
   "cell_type": "markdown",
   "id": "2a103a32-e949-4cb7-9c04-cff50608fe16",
   "metadata": {},
   "source": [
    " "
   ]
  },
  {
   "cell_type": "markdown",
   "id": "bcdd0d35-5a44-4daf-90d2-9323c7fbed93",
   "metadata": {},
   "source": [
    "The following code helps us identify which locations were not geocoded properly. If they are terribly important for our project, we can find and correct them. Here it seems like the report combines two localities (i) Fort Walton Beach and (ii) Crestview into one name that the geolocator then couldn't process. "
   ]
  },
  {
   "cell_type": "code",
   "execution_count": 9,
   "id": "7a201554-e7f6-4774-9032-29e23dd1716c",
   "metadata": {},
   "outputs": [
    {
     "name": "stdout",
     "output_type": "stream",
     "text": [
      "Rows with missing latitude, longitude, or type values:\n",
      "Empty DataFrame\n",
      "Columns: [city, state]\n",
      "Index: []\n"
     ]
    }
   ],
   "source": [
    "missing_locations = data[data['latitude'].isna() | data['longitude'].isna() | data['type'].isna()]\n",
    "print(\"Rows with missing latitude, longitude, or type values:\")\n",
    "print(missing_locations[['city', 'state']])\n"
   ]
  },
  {
   "cell_type": "markdown",
   "id": "f84a2331-5bcb-4268-bbb6-7f9ac9c0839b",
   "metadata": {},
   "source": [
    " "
   ]
  },
  {
   "cell_type": "markdown",
   "id": "28b29a9f-dc13-4f1e-b88f-f681f71a7ed7",
   "metadata": {},
   "source": [
    "If we use the columns with missing values, we can get an error in plotting these points because the program cannot plot what's missing. We can deal with it by dropping the locations that our program could not geolocate.\n",
    "\n",
    "Best practice however is to locate them and make necessary corrections."
   ]
  },
  {
   "cell_type": "code",
   "execution_count": 10,
   "id": "276d00fe-8820-48ed-9bed-c24fd5164924",
   "metadata": {},
   "outputs": [
    {
     "data": {
      "text/html": [
       "<div>\n",
       "<style scoped>\n",
       "    .dataframe tbody tr th:only-of-type {\n",
       "        vertical-align: middle;\n",
       "    }\n",
       "\n",
       "    .dataframe tbody tr th {\n",
       "        vertical-align: top;\n",
       "    }\n",
       "\n",
       "    .dataframe thead th {\n",
       "        text-align: right;\n",
       "    }\n",
       "</style>\n",
       "<table border=\"1\" class=\"dataframe\">\n",
       "  <thead>\n",
       "    <tr style=\"text-align: right;\">\n",
       "      <th></th>\n",
       "      <th>Unnamed: 0</th>\n",
       "      <th>id</th>\n",
       "      <th>date</th>\n",
       "      <th>city</th>\n",
       "      <th>state</th>\n",
       "      <th>type</th>\n",
       "      <th>ideology</th>\n",
       "      <th>subideology</th>\n",
       "      <th>group</th>\n",
       "      <th>description</th>\n",
       "      <th>image</th>\n",
       "      <th>latitude</th>\n",
       "      <th>longitude</th>\n",
       "    </tr>\n",
       "  </thead>\n",
       "  <tbody>\n",
       "    <tr>\n",
       "      <th>0</th>\n",
       "      <td>2426</td>\n",
       "      <td>33502</td>\n",
       "      <td>2022-09-11</td>\n",
       "      <td>Walled Lake</td>\n",
       "      <td>MI</td>\n",
       "      <td>Extremist Murder;Extremist/Police Shootout</td>\n",
       "      <td>Right Wing (Other)</td>\n",
       "      <td>NaN</td>\n",
       "      <td>NaN</td>\n",
       "      <td>Igor Lanis fatally shot his wife and wounded o...</td>\n",
       "      <td>NaN</td>\n",
       "      <td>42.537811</td>\n",
       "      <td>-83.481048</td>\n",
       "    </tr>\n",
       "    <tr>\n",
       "      <th>1</th>\n",
       "      <td>6881</td>\n",
       "      <td>25776</td>\n",
       "      <td>2022-03-31</td>\n",
       "      <td>Dudleyville</td>\n",
       "      <td>AZ</td>\n",
       "      <td>Extremist/Police Shootout</td>\n",
       "      <td>Right Wing (White Supremacist)</td>\n",
       "      <td>NaN</td>\n",
       "      <td>NaN</td>\n",
       "      <td>According to the Pinal County Sheriff's Office...</td>\n",
       "      <td>NaN</td>\n",
       "      <td>32.908704</td>\n",
       "      <td>-110.722061</td>\n",
       "    </tr>\n",
       "    <tr>\n",
       "      <th>2</th>\n",
       "      <td>9750</td>\n",
       "      <td>20441</td>\n",
       "      <td>2021-12-27</td>\n",
       "      <td>Denver</td>\n",
       "      <td>CO</td>\n",
       "      <td>Extremist Murder;Extremist/Police Shootout</td>\n",
       "      <td>Right Wing (Other)</td>\n",
       "      <td>NaN</td>\n",
       "      <td>NaN</td>\n",
       "      <td>Lyndon McLeod went on a multi-location shootin...</td>\n",
       "      <td>NaN</td>\n",
       "      <td>39.739236</td>\n",
       "      <td>-104.984862</td>\n",
       "    </tr>\n",
       "    <tr>\n",
       "      <th>3</th>\n",
       "      <td>10915</td>\n",
       "      <td>20464</td>\n",
       "      <td>2021-11-05</td>\n",
       "      <td>Hoschton</td>\n",
       "      <td>GA</td>\n",
       "      <td>Extremist Murder;Extremist/Police Shootout</td>\n",
       "      <td>Right Wing (Anti-Government)</td>\n",
       "      <td>NaN</td>\n",
       "      <td>NaN</td>\n",
       "      <td>Jessica Worsham, an anti-government sovereign ...</td>\n",
       "      <td>NaN</td>\n",
       "      <td>34.096496</td>\n",
       "      <td>-83.761284</td>\n",
       "    </tr>\n",
       "    <tr>\n",
       "      <th>4</th>\n",
       "      <td>11647</td>\n",
       "      <td>20390</td>\n",
       "      <td>2021-10-29</td>\n",
       "      <td>Tecumseh</td>\n",
       "      <td>OK</td>\n",
       "      <td>Extremist Murder;Extremist/Police Shootout</td>\n",
       "      <td>Right Wing (Anti-Government)</td>\n",
       "      <td>NaN</td>\n",
       "      <td>NaN</td>\n",
       "      <td>Braedon Chesser, an anti-government extremist ...</td>\n",
       "      <td>NaN</td>\n",
       "      <td>35.25785</td>\n",
       "      <td>-96.936689</td>\n",
       "    </tr>\n",
       "    <tr>\n",
       "      <th>...</th>\n",
       "      <td>...</td>\n",
       "      <td>...</td>\n",
       "      <td>...</td>\n",
       "      <td>...</td>\n",
       "      <td>...</td>\n",
       "      <td>...</td>\n",
       "      <td>...</td>\n",
       "      <td>...</td>\n",
       "      <td>...</td>\n",
       "      <td>...</td>\n",
       "      <td>...</td>\n",
       "      <td>...</td>\n",
       "      <td>...</td>\n",
       "    </tr>\n",
       "    <tr>\n",
       "      <th>125</th>\n",
       "      <td>35948</td>\n",
       "      <td>710</td>\n",
       "      <td>2009-10-28</td>\n",
       "      <td>Dearborn</td>\n",
       "      <td>MI</td>\n",
       "      <td>Extremist/Police Shootout</td>\n",
       "      <td>Islamist</td>\n",
       "      <td>NaN</td>\n",
       "      <td>Ummah</td>\n",
       "      <td>Law enforcement agents fatally shot Luqman Ame...</td>\n",
       "      <td>NaN</td>\n",
       "      <td>42.32226</td>\n",
       "      <td>-83.176315</td>\n",
       "    </tr>\n",
       "    <tr>\n",
       "      <th>126</th>\n",
       "      <td>35969</td>\n",
       "      <td>1948</td>\n",
       "      <td>2009-04-04</td>\n",
       "      <td>Pittsburgh</td>\n",
       "      <td>PA</td>\n",
       "      <td>Extremist Murder;Extremist/Police Shootout</td>\n",
       "      <td>Right Wing (White Supremacist)</td>\n",
       "      <td>NaN</td>\n",
       "      <td>NaN</td>\n",
       "      <td>Richard Andrew Poplawski shot and killed three...</td>\n",
       "      <td>NaN</td>\n",
       "      <td>40.441694</td>\n",
       "      <td>-79.990086</td>\n",
       "    </tr>\n",
       "    <tr>\n",
       "      <th>127</th>\n",
       "      <td>35976</td>\n",
       "      <td>335</td>\n",
       "      <td>2009-01-21</td>\n",
       "      <td>Brockton</td>\n",
       "      <td>MA</td>\n",
       "      <td>Extremist Murder;Extremist/Police Shootout;Ter...</td>\n",
       "      <td>Right Wing (White Supremacist)</td>\n",
       "      <td>NaN</td>\n",
       "      <td>NaN</td>\n",
       "      <td>Keith Luke, 22, went on a racially motivated s...</td>\n",
       "      <td>NaN</td>\n",
       "      <td>42.083433</td>\n",
       "      <td>-71.018379</td>\n",
       "    </tr>\n",
       "    <tr>\n",
       "      <th>128</th>\n",
       "      <td>36006</td>\n",
       "      <td>192</td>\n",
       "      <td>2007-08-10</td>\n",
       "      <td>Bastrop</td>\n",
       "      <td>LA</td>\n",
       "      <td>Extremist Murder;Extremist/Police Shootout</td>\n",
       "      <td>Right Wing (White Supremacist)</td>\n",
       "      <td>NaN</td>\n",
       "      <td>Aryan Circle</td>\n",
       "      <td>Aryan Circle member Dennis Clem shot and kille...</td>\n",
       "      <td>NaN</td>\n",
       "      <td>32.776145</td>\n",
       "      <td>-91.908297</td>\n",
       "    </tr>\n",
       "    <tr>\n",
       "      <th>129</th>\n",
       "      <td>36018</td>\n",
       "      <td>962</td>\n",
       "      <td>2006-02-02</td>\n",
       "      <td>Gassville</td>\n",
       "      <td>AR</td>\n",
       "      <td>Extremist Murder;Extremist/Police Shootout</td>\n",
       "      <td>Right Wing (White Supremacist)</td>\n",
       "      <td>NaN</td>\n",
       "      <td>NaN</td>\n",
       "      <td>White supremacist Jacob Robida killed himself ...</td>\n",
       "      <td>NaN</td>\n",
       "      <td>36.283124</td>\n",
       "      <td>-92.494051</td>\n",
       "    </tr>\n",
       "  </tbody>\n",
       "</table>\n",
       "<p>130 rows × 13 columns</p>\n",
       "</div>"
      ],
      "text/plain": [
       "     Unnamed: 0     id       date         city state  \\\n",
       "0          2426  33502 2022-09-11  Walled Lake    MI   \n",
       "1          6881  25776 2022-03-31  Dudleyville    AZ   \n",
       "2          9750  20441 2021-12-27       Denver    CO   \n",
       "3         10915  20464 2021-11-05     Hoschton    GA   \n",
       "4         11647  20390 2021-10-29     Tecumseh    OK   \n",
       "..          ...    ...        ...          ...   ...   \n",
       "125       35948    710 2009-10-28     Dearborn    MI   \n",
       "126       35969   1948 2009-04-04   Pittsburgh    PA   \n",
       "127       35976    335 2009-01-21     Brockton    MA   \n",
       "128       36006    192 2007-08-10      Bastrop    LA   \n",
       "129       36018    962 2006-02-02    Gassville    AR   \n",
       "\n",
       "                                                  type  \\\n",
       "0           Extremist Murder;Extremist/Police Shootout   \n",
       "1                            Extremist/Police Shootout   \n",
       "2           Extremist Murder;Extremist/Police Shootout   \n",
       "3           Extremist Murder;Extremist/Police Shootout   \n",
       "4           Extremist Murder;Extremist/Police Shootout   \n",
       "..                                                 ...   \n",
       "125                          Extremist/Police Shootout   \n",
       "126         Extremist Murder;Extremist/Police Shootout   \n",
       "127  Extremist Murder;Extremist/Police Shootout;Ter...   \n",
       "128         Extremist Murder;Extremist/Police Shootout   \n",
       "129         Extremist Murder;Extremist/Police Shootout   \n",
       "\n",
       "                           ideology  subideology         group  \\\n",
       "0                Right Wing (Other)          NaN           NaN   \n",
       "1    Right Wing (White Supremacist)          NaN           NaN   \n",
       "2                Right Wing (Other)          NaN           NaN   \n",
       "3      Right Wing (Anti-Government)          NaN           NaN   \n",
       "4      Right Wing (Anti-Government)          NaN           NaN   \n",
       "..                              ...          ...           ...   \n",
       "125                        Islamist          NaN         Ummah   \n",
       "126  Right Wing (White Supremacist)          NaN           NaN   \n",
       "127  Right Wing (White Supremacist)          NaN           NaN   \n",
       "128  Right Wing (White Supremacist)          NaN  Aryan Circle   \n",
       "129  Right Wing (White Supremacist)          NaN           NaN   \n",
       "\n",
       "                                           description  image   latitude  \\\n",
       "0    Igor Lanis fatally shot his wife and wounded o...    NaN  42.537811   \n",
       "1    According to the Pinal County Sheriff's Office...    NaN  32.908704   \n",
       "2    Lyndon McLeod went on a multi-location shootin...    NaN  39.739236   \n",
       "3    Jessica Worsham, an anti-government sovereign ...    NaN  34.096496   \n",
       "4    Braedon Chesser, an anti-government extremist ...    NaN   35.25785   \n",
       "..                                                 ...    ...        ...   \n",
       "125  Law enforcement agents fatally shot Luqman Ame...    NaN   42.32226   \n",
       "126  Richard Andrew Poplawski shot and killed three...    NaN  40.441694   \n",
       "127  Keith Luke, 22, went on a racially motivated s...    NaN  42.083433   \n",
       "128  Aryan Circle member Dennis Clem shot and kille...    NaN  32.776145   \n",
       "129  White supremacist Jacob Robida killed himself ...    NaN  36.283124   \n",
       "\n",
       "      longitude  \n",
       "0    -83.481048  \n",
       "1   -110.722061  \n",
       "2   -104.984862  \n",
       "3    -83.761284  \n",
       "4    -96.936689  \n",
       "..          ...  \n",
       "125  -83.176315  \n",
       "126  -79.990086  \n",
       "127  -71.018379  \n",
       "128  -91.908297  \n",
       "129  -92.494051  \n",
       "\n",
       "[130 rows x 13 columns]"
      ]
     },
     "execution_count": 10,
     "metadata": {},
     "output_type": "execute_result"
    }
   ],
   "source": [
    "data = data.dropna(subset=['latitude', 'longitude', 'type'])\n",
    "data"
   ]
  },
  {
   "cell_type": "markdown",
   "id": "d84f8d72-84d9-400f-8990-1beb8df458c2",
   "metadata": {},
   "source": [
    "### Mapping"
   ]
  },
  {
   "cell_type": "markdown",
   "id": "1d931673-857e-4f04-9fb8-a9561f8ff5b3",
   "metadata": {},
   "source": [
    "**Now we create a Folium map centered at the approximate geographical center of the United States to plot our coordinates.**\n",
    "\n",
    "* **map_center** = [39.8283, -98.5795] is a list that contains the latitude and longitude coordinates of the approximate center of the United States.\n",
    "* **base_map** creates a Folium map object that has sets the initial center of the map to the coordinates specified in the map_center list, and sets the initial zoom level of the map. \n",
    "\n",
    "**Note:** A lower zoom level (e.g., 5) shows a larger area, while a higher zoom level (e.g., 15) shows a smaller area with more detail."
   ]
  },
  {
   "cell_type": "code",
   "execution_count": 11,
   "id": "f4c4f05e-1b50-46e4-a569-9791b9f85883",
   "metadata": {},
   "outputs": [],
   "source": [
    "map_center = [39.8283, -98.5795]  # Approximate center of the United States\n",
    "base_map = folium.Map(location=map_center, zoom_start=5)\n"
   ]
  },
  {
   "cell_type": "markdown",
   "id": "7d2bbf9f-d9ba-43e6-9d30-4545b78748ca",
   "metadata": {},
   "source": [
    "The following code has an element **grouped_data**, which is useful when we are working with data of different types. We have already filtered our type of interest to ease the geocoding process, but it still has many different types that contain the string 'Extremist/Police Shootout'. This could be even more useful when we have different nature of event. \n",
    "\n",
    "Anyhow, it takes the latitude and longitude points for each observation and add them to a **heatmap** object, and then adds that to the **base_map**.\n",
    "\n",
    "It also adds a layer control interface that allows users to interactively toggle the visibility of different map layers on the map."
   ]
  },
  {
   "cell_type": "code",
   "execution_count": 12,
   "id": "4fbc6e63-9350-4214-98fd-0389b9836f0c",
   "metadata": {
    "tags": []
   },
   "outputs": [
    {
     "data": {
      "text/plain": [
       "<folium.map.LayerControl at 0x2ac6a004490>"
      ]
     },
     "execution_count": 12,
     "metadata": {},
     "output_type": "execute_result"
    }
   ],
   "source": [
    "grouped_data = data.groupby('type') #useful when different type of events are in the dataframe\n",
    "\n",
    "for name, group in grouped_data:\n",
    "    heat_data = [[row['latitude'], row['longitude']] for index, row in group.iterrows()]\n",
    "    HeatMap(heat_data, name=name).add_to(base_map)\n",
    "    \n",
    "folium.LayerControl().add_to(base_map)"
   ]
  },
  {
   "cell_type": "markdown",
   "id": "db1d55c1-2c8c-4d3d-9fa4-2356a45f483f",
   "metadata": {},
   "source": [
    "The following code exports the basemap with the heatmap layer to an interactive html file."
   ]
  },
  {
   "cell_type": "code",
   "execution_count": 13,
   "id": "2d914a13-0871-4108-8548-8332fd3405f1",
   "metadata": {},
   "outputs": [],
   "source": [
    "base_map.save('shootout.html')"
   ]
  },
  {
   "cell_type": "markdown",
   "id": "58a9faa4-aced-4fb8-9280-eccb586e3cec",
   "metadata": {},
   "source": [
    "The following code exports the filtered 'shootout' data to an excel file for reproducibility purpose.\n",
    "\n",
    "**Note:** you can also export it as csv using *data.to_csv('shoutout.csv')*."
   ]
  }
 ],
 "metadata": {
  "kernelspec": {
   "display_name": "Python 3 (ipykernel)",
   "language": "python",
   "name": "python3"
  },
  "language_info": {
   "codemirror_mode": {
    "name": "ipython",
    "version": 3
   },
   "file_extension": ".py",
   "mimetype": "text/x-python",
   "name": "python",
   "nbconvert_exporter": "python",
   "pygments_lexer": "ipython3",
   "version": "3.8.13"
  }
 },
 "nbformat": 4,
 "nbformat_minor": 5
}
